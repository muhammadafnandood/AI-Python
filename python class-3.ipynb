{
  "nbformat": 4,
  "nbformat_minor": 0,
  "metadata": {
    "colab": {
      "provenance": [],
      "authorship_tag": "ABX9TyMg74QjqJuiMVw6Pl8Sa71O",
      "include_colab_link": true
    },
    "kernelspec": {
      "name": "python3",
      "display_name": "Python 3"
    },
    "language_info": {
      "name": "python"
    }
  },
  "cells": [
    {
      "cell_type": "markdown",
      "metadata": {
        "id": "view-in-github",
        "colab_type": "text"
      },
      "source": [
        "<a href=\"https://colab.research.google.com/github/muhammadafnandood/AI-Python/blob/main/python%20class-3.ipynb\" target=\"_parent\"><img src=\"https://colab.research.google.com/assets/colab-badge.svg\" alt=\"Open In Colab\"/></a>"
      ]
    },
    {
      "cell_type": "code",
      "execution_count": null,
      "metadata": {
        "colab": {
          "base_uri": "https://localhost:8080/"
        },
        "id": "-qmLnpPqQC3e",
        "outputId": "4002e3cb-007d-46db-cf61-b699c800816d"
      },
      "outputs": [
        {
          "output_type": "stream",
          "name": "stdout",
          "text": [
            "Muahammad Afnan\n"
          ]
        }
      ],
      "source": [
        "print(\"Muahammad Afnan\")"
      ]
    },
    {
      "cell_type": "markdown",
      "source": [
        "# **PYTHON CODE**\n"
      ],
      "metadata": {
        "id": "m3FuNi3kRAEI"
      }
    },
    {
      "cell_type": "code",
      "source": [
        "print(\"Hello World\")\n",
        "teachername=str(\"Sir Aneeq\")\n",
        "print(teachername)\n",
        "marks:int=80\n",
        "print(marks)\n",
        "\n",
        "a = \"rizwan\"\n",
        "print(\"Rizwan\")\n",
        "\n",
        "print(\"Hello World\")\n",
        "print(\"Hello World\")\n",
        "name: str = \"Aneeq\"\n",
        "Age : int=25\n",
        "is_active :bool=True\n",
        "print(name)\n",
        "name=\"Ameen\"\n",
        "#yahan main variable ko overrite kr rha houn\n",
        "\n",
        "# Arthematic operators\n",
        "# Assignment operators\n",
        "# Logical operators\n",
        "# comparision operators  ( boolian , or True / False)\n",
        "\n",
        "# Arthemetic operators + , - , / , x\n",
        "print(7+5)\n",
        "print(10-5)\n",
        "print(10/2)\n",
        "print(5*2)\n",
        "\n",
        "num1: int = 5\n",
        "num2: int = 5\n",
        "sum : int = num1+num2\n",
        "print(sum)\n",
        "\n",
        "sub: int = num1 - num2\n",
        "print(sub)\n",
        "\n",
        "div: int = num1 / num2\n",
        "print(div)\n",
        "\n",
        "mul: int = num1 * num2\n",
        "print(mul)\n",
        "\n",
        "print(8 ** 2)\n",
        "# exponent print (8 ** 2) 8 ka square 8^2 = 8x8\n",
        "\n",
        "print(10/2)\n",
        "print(11/2)\n",
        "\n",
        "#print(11 // 2) floor division\n",
        "\n",
        "\n",
        "# print(11 % 2 )  11/2 = 1 lcm jo baki reh jaye\n",
        "# print(11 % 2)  11 / 2 reminder / modulus\n",
        "\n",
        "# Assignment operators wo operators houn gy jo kisi ko kuch sonp dain\n",
        "x: int = 10\n",
        "x = x + 5\n",
        "print(x)\n",
        "# variable ko overwrite bhi kr sakty hain , varible hamary pass value store krta hy.\n",
        "# assignment operator hy =\n",
        "x = x + 5\n",
        "print(x)\n",
        "# x ki value 10 or isko overwrite krna ho to x = 15 or 20 etc.\n",
        "# x : int = 15\n",
        "x = x + 5\n",
        "print(x)\n",
        "# x = x - 5\n",
        "# 15 * 2 = 30\n",
        "x: int = 15\n",
        "x = x % 3\n",
        "print(x)\n",
        "# 3 Logical Operators\n",
        "#\n",
        "# Comparision Operators\n",
        " # == (equal)\n",
        " # >  (greator than)\n",
        " # <   (Less Than)\n",
        " # >=  ( grator or equal to)\n",
        " # <=  ( less than or equal to)\n",
        " # !=  ( not equal to)\n",
        "\n",
        "# mera pehla operand/value  k braber hy\n",
        "num1: int = 10\n",
        "num2: int = 10\n",
        "print(num1 == num2)\n",
        "print(10 == 10)\n",
        "print(num1 == num2)\n",
        "\n",
        "num1: int = 10\n",
        "num2: int = 20\n",
        "print ( num1 > num2)\n",
        "print(num1 >= num2)\n",
        "print(num1 <= num2)\n",
        "print(num1 != num2)\n",
        "\n",
        "# logical operators\n",
        "# and operator , on , not operators three types\n",
        "num1: int = 12\n",
        "num2: int = 14\n",
        "print(10 == 10)\n",
        "print(num1 != num2)\n",
        "print(num1 <= num2)\n",
        "\n",
        "num1: int =24\n",
        "num2: int =18\n",
        "print(num1-num2)\n",
        "print(num1*num2)\n",
        "print(num1+num2)\n",
        "print(num1^num2)\n",
        "print(num1%num2)\n",
        "print(num1 // num2)\n",
        "\n",
        "\n",
        "\n",
        "\n"
      ],
      "metadata": {
        "id": "OS8H59QP2pXF"
      },
      "execution_count": null,
      "outputs": []
    },
    {
      "cell_type": "code",
      "source": [
        "print(True == 1)\n",
        "print(False == 0)\n",
        "print(True + False)\n",
        "teachername :str=\"Sir Aneeq\"\n",
        "print(teachername)\n",
        "allowed:bool=False\n",
        "uname : str=\"Sir Sohaib\"\n",
        "uname=\"Abdullah\"\n",
        "print(uname)\n",
        "allowed:bool=False\n",
        "print(allowed)\n",
        "allowed:bool=True\n",
        "print(allowed)\n"
      ],
      "metadata": {
        "id": "KgMP7VtaJQS7",
        "colab": {
          "base_uri": "https://localhost:8080/"
        },
        "outputId": "d43d9bb9-0779-4f45-e781-d24fdc0e685d"
      },
      "execution_count": null,
      "outputs": [
        {
          "output_type": "stream",
          "name": "stdout",
          "text": [
            "True\n",
            "True\n",
            "1\n",
            "Sir Aneeq\n",
            "Abdullah\n",
            "False\n",
            "True\n"
          ]
        }
      ]
    },
    {
      "cell_type": "code",
      "source": [],
      "metadata": {
        "id": "DhzcrNjlahtX"
      },
      "execution_count": null,
      "outputs": []
    },
    {
      "cell_type": "code",
      "source": [
        "# prompt: print(True == 1)\n",
        "# print(False == 0)\n",
        "# print(True + False)\n",
        "# teachername :str=\"Sir Aneeq\"\n",
        "# print(teachername)\n",
        "# allowed:bool=False\n",
        "# uname : str=\"Sir Sohaib\"\n",
        "# uname=\"Abdullah\"\n",
        "# print(uname)\n",
        "# allowed:bool=False\n",
        "# print(allowed)\n",
        "# allowed:bool=True\n",
        "# print(allowed)\n",
        "\n",
        "print(\"Muahammad Afnan\")\n",
        "print(True == 1)\n",
        "print(False == 0)\n",
        "print(True + False)\n",
        "teachername = \"Sir Aneeq\" # Type hints are not enforced in Python runtime\n",
        "print(teachername)\n",
        "allowed = False # Type hints are not enforced in Python runtime\n",
        "uname = \"Sir Sohaib\" # Type hints are not enforced in Python runtime\n",
        "uname = \"Abdullah\"\n",
        "print(uname)\n",
        "allowed = False # Type hints are not enforced in Python runtime\n",
        "print(allowed)\n",
        "allowed = True # Type hints are not enforced in Python runtime\n",
        "allowed\n"
      ],
      "metadata": {
        "colab": {
          "base_uri": "https://localhost:8080/"
        },
        "id": "fcUSGHLdah_n",
        "outputId": "fd21030a-f561-40fb-9e67-e2eec1a9baa7"
      },
      "execution_count": null,
      "outputs": [
        {
          "output_type": "stream",
          "name": "stdout",
          "text": [
            "Muahammad Afnan\n",
            "True\n",
            "True\n",
            "1\n",
            "Sir Aneeq\n",
            "Abdullah\n",
            "False\n"
          ]
        },
        {
          "output_type": "execute_result",
          "data": {
            "text/plain": [
              "True"
            ]
          },
          "metadata": {},
          "execution_count": 5
        }
      ]
    },
    {
      "cell_type": "code",
      "source": [
        "print(True == 1)\n",
        "print(False == 0)\n",
        "print(True + False)\n",
        "teachername :str=\"Sir Aneeq\"\n",
        "print(teachername)\n",
        "allowed:bool=False\n",
        "uname : str=\"Sir Sohaib\"\n",
        "uname=\"Abdullah\n",
        "print(uname)\n",
        "allowed:bool=False\n",
        "print(allowed)\n",
        "allowed:bool=True\n",
        "print(allowed)\n"
      ],
      "metadata": {
        "id": "oKaBv1MRSaP3"
      },
      "execution_count": null,
      "outputs": []
    },
    {
      "cell_type": "markdown",
      "source": [],
      "metadata": {
        "id": "Y_TXYgApJP9H"
      }
    }
  ]
}