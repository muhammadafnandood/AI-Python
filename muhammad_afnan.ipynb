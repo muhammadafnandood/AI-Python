{
  "nbformat": 4,
  "nbformat_minor": 0,
  "metadata": {
    "colab": {
      "provenance": [],
      "authorship_tag": "ABX9TyN+w6vh5AhyGsQUsIohAA0R",
      "include_colab_link": true
    },
    "kernelspec": {
      "name": "python3",
      "display_name": "Python 3"
    },
    "language_info": {
      "name": "python"
    }
  },
  "cells": [
    {
      "cell_type": "markdown",
      "metadata": {
        "id": "view-in-github",
        "colab_type": "text"
      },
      "source": [
        "<a href=\"https://colab.research.google.com/github/muhammadafnandood/AI-Python/blob/main/muhammad_afnan.ipynb\" target=\"_parent\"><img src=\"https://colab.research.google.com/assets/colab-badge.svg\" alt=\"Open In Colab\"/></a>"
      ]
    },
    {
      "cell_type": "code",
      "execution_count": null,
      "metadata": {
        "colab": {
          "base_uri": "https://localhost:8080/"
        },
        "id": "-qmLnpPqQC3e",
        "outputId": "4002e3cb-007d-46db-cf61-b699c800816d"
      },
      "outputs": [
        {
          "output_type": "stream",
          "name": "stdout",
          "text": [
            "Muahammad Afnan\n"
          ]
        }
      ],
      "source": [
        "print(\"Muahammad Afnan\")"
      ]
    },
    {
      "cell_type": "markdown",
      "source": [
        "# **PYTHON CODE**\n"
      ],
      "metadata": {
        "id": "m3FuNi3kRAEI"
      }
    },
    {
      "cell_type": "code",
      "source": [
        "print(True == 1)\n",
        "print(False == 0)\n",
        "print(True + False)\n",
        "teachername :str=\"Sir Aneeq\"\n",
        "print(teachername)\n",
        "allowed:bool=False\n",
        "uname : str=\"Sir Sohaib\"\n",
        "uname=\"Abdullah\"\n",
        "print(uname)\n",
        "allowed:bool=False\n",
        "print(allowed)\n",
        "allowed:bool=True\n",
        "print(allowed)\n"
      ],
      "metadata": {
        "id": "KgMP7VtaJQS7",
        "colab": {
          "base_uri": "https://localhost:8080/"
        },
        "outputId": "d43d9bb9-0779-4f45-e781-d24fdc0e685d"
      },
      "execution_count": null,
      "outputs": [
        {
          "output_type": "stream",
          "name": "stdout",
          "text": [
            "True\n",
            "True\n",
            "1\n",
            "Sir Aneeq\n",
            "Abdullah\n",
            "False\n",
            "True\n"
          ]
        }
      ]
    },
    {
      "cell_type": "code",
      "source": [],
      "metadata": {
        "id": "DhzcrNjlahtX"
      },
      "execution_count": null,
      "outputs": []
    },
    {
      "cell_type": "code",
      "source": [
        "# prompt: print(True == 1)\n",
        "# print(False == 0)\n",
        "# print(True + False)\n",
        "# teachername :str=\"Sir Aneeq\"\n",
        "# print(teachername)\n",
        "# allowed:bool=False\n",
        "# uname : str=\"Sir Sohaib\"\n",
        "# uname=\"Abdullah\"\n",
        "# print(uname)\n",
        "# allowed:bool=False\n",
        "# print(allowed)\n",
        "# allowed:bool=True\n",
        "# print(allowed)\n",
        "\n",
        "print(\"Muahammad Afnan\")\n",
        "print(True == 1)\n",
        "print(False == 0)\n",
        "print(True + False)\n",
        "teachername = \"Sir Aneeq\" # Type hints are not enforced in Python runtime\n",
        "print(teachername)\n",
        "allowed = False # Type hints are not enforced in Python runtime\n",
        "uname = \"Sir Sohaib\" # Type hints are not enforced in Python runtime\n",
        "uname = \"Abdullah\"\n",
        "print(uname)\n",
        "allowed = False # Type hints are not enforced in Python runtime\n",
        "print(allowed)\n",
        "allowed = True # Type hints are not enforced in Python runtime\n",
        "allowed\n"
      ],
      "metadata": {
        "colab": {
          "base_uri": "https://localhost:8080/"
        },
        "id": "fcUSGHLdah_n",
        "outputId": "fd21030a-f561-40fb-9e67-e2eec1a9baa7"
      },
      "execution_count": null,
      "outputs": [
        {
          "output_type": "stream",
          "name": "stdout",
          "text": [
            "Muahammad Afnan\n",
            "True\n",
            "True\n",
            "1\n",
            "Sir Aneeq\n",
            "Abdullah\n",
            "False\n"
          ]
        },
        {
          "output_type": "execute_result",
          "data": {
            "text/plain": [
              "True"
            ]
          },
          "metadata": {},
          "execution_count": 5
        }
      ]
    },
    {
      "cell_type": "code",
      "source": [
        "print(True == 1)\n",
        "print(False == 0)\n",
        "print(True + False)\n",
        "teachername :str=\"Sir Aneeq\"\n",
        "print(teachername)\n",
        "allowed:bool=False\n",
        "uname : str=\"Sir Sohaib\"\n",
        "uname=\"Abdullah\n",
        "print(uname)\n",
        "allowed:bool=False\n",
        "print(allowed)\n",
        "allowed:bool=True\n",
        "print(allowed)\n"
      ],
      "metadata": {
        "id": "oKaBv1MRSaP3"
      },
      "execution_count": null,
      "outputs": []
    },
    {
      "cell_type": "markdown",
      "source": [],
      "metadata": {
        "id": "Y_TXYgApJP9H"
      }
    }
  ]
}