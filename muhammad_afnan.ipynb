{
  "nbformat": 4,
  "nbformat_minor": 0,
  "metadata": {
    "colab": {
      "provenance": [],
      "authorship_tag": "ABX9TyN4A7Qamya7dHa2o5N0woNp",
      "include_colab_link": true
    },
    "kernelspec": {
      "name": "python3",
      "display_name": "Python 3"
    },
    "language_info": {
      "name": "python"
    }
  },
  "cells": [
    {
      "cell_type": "markdown",
      "metadata": {
        "id": "view-in-github",
        "colab_type": "text"
      },
      "source": [
        "<a href=\"https://colab.research.google.com/github/muhammadafnandood/AI-Python/blob/main/muhammad_afnan.ipynb\" target=\"_parent\"><img src=\"https://colab.research.google.com/assets/colab-badge.svg\" alt=\"Open In Colab\"/></a>"
      ]
    },
    {
      "cell_type": "code",
      "execution_count": null,
      "metadata": {
        "colab": {
          "base_uri": "https://localhost:8080/"
        },
        "id": "-qmLnpPqQC3e",
        "outputId": "4002e3cb-007d-46db-cf61-b699c800816d"
      },
      "outputs": [
        {
          "output_type": "stream",
          "name": "stdout",
          "text": [
            "Muahammad Afnan\n"
          ]
        }
      ],
      "source": [
        "print(\"Muahammad Afnan\")"
      ]
    },
    {
      "cell_type": "markdown",
      "source": [
        "# **PYTHON CODE**\n"
      ],
      "metadata": {
        "id": "m3FuNi3kRAEI"
      }
    },
    {
      "cell_type": "code",
      "source": [
        " # logical operators\n",
        "# and , or , not\n",
        "\n",
        "# and\n",
        "num1: int = 20\n",
        "# num: int = 11\n",
        "# condition\n",
        "# num1 is greater than 10\n",
        "# and\n",
        "# num1 is less than 30\n",
        "print(num1 > 10 and num1 < 30)\n",
        "\n",
        "print(num1 > 10 or num1 <40)\n",
        "k_elec=\"No K_Electric\"\n",
        "ups= \"No ups\"\n",
        "print(k_elec and ups )\n",
        "\n",
        "k_elec=\"No K_Electric\"\n",
        "ups= \"No ups\"\n",
        "print(k_elec or ups)\n",
        "\n",
        "k_elec=\"Yes K_Electric\"\n",
        "ups= \"No ups\"\n",
        "print(k_elec or ups)\n",
        "\n",
        "k_elec=\"Yes K_Electric\"\n",
        "ups= \"No ups\"\n",
        "print(k_elec != ups)\n",
        "\n",
        "\n",
        "\n",
        "kelectric=\"no kelectric\"\n",
        "ups=\"no ups\"\n",
        "print(\"kelectric== nokelectric or ups!= no ups\")\n",
        "\n",
        "kelectric=\"YES\"\n",
        "ups=\"No\"\n",
        "print(\"kelectric== nokelectric or ups!= no ups\")\n",
        "\n",
        "KE: int = 1\n",
        "UPS: int= 0\n",
        "print( KE >= UPS)\n",
        "\n",
        "KE: int = 1\n",
        "UPS: int= 0\n",
        "print(KE <= UPS)\n",
        "print(UPS == \"KE\")\n",
        "print(KE != UPS)\n",
        "\n",
        "# Ager   Warna    ager barish nai hui to school jaoun ga ye condition hy.\n",
        "# IF     Else\n",
        "# programming main true ya false sy on ya off ka kam liya jatahy.\n",
        "if 2 > 1:\n",
        "    print(\"Hello\")         #code space ye indentation ky sath likha jaye ga.\n",
        "    uname = \"Sir Sohaib\"\n",
        "    print(uname)\n",
        "    # programing main aik code likhty usko statment bolty hain.\n",
        "\n",
        "    num1:int =2\n",
        "    num2:int =1\n",
        "    if num1 > num2:\n",
        "        print(\"hello\")\n",
        "\n",
        "\n",
        ""
      ],
      "metadata": {
        "id": "O67zr6OG3bfa"
      },
      "execution_count": null,
      "outputs": []
    }
  ]
}