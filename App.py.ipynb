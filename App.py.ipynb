{
 "cells": [
  {
   "cell_type": "code",
   "execution_count": null,
   "metadata": {},
   "outputs": [],
   "source": [
    "user_input = int(input(\"enter your number\"))\n",
    "for num in range(1,11):\n",
    "    print(f\"{user_input} x {num} = {num * user_input}\")\n"
   ]
  },
  {
   "cell_type": "code",
   "execution_count": null,
   "metadata": {},
   "outputs": [],
   "source": [
    "num = [1,2,3]\n",
    "try:\n",
    "    result = num[0]\n",
    "except IndexError:\n",
    "    print(\"number zero is not divisible\")\n",
    "except ZeroDivisionError:\n",
    "    print(\"please provide valid index\")"
   ]
  },
  {
   "cell_type": "code",
   "execution_count": null,
   "metadata": {},
   "outputs": [
    {
     "name": "stdout",
     "output_type": "stream",
     "text": [
      "Hellow World\n"
     ]
    }
   ],
   "source": [
    "print(\"Hellow World\")"
   ]
  },
  {
   "cell_type": "code",
   "execution_count": null,
   "metadata": {},
   "outputs": [],
   "source": [
    "# Local & Global Variable difrence\n",
    "\n",
    "num_x = 5\n",
    "print(\"num_x outside function one\" ,num_x)\n",
    "\n",
    "def hello():\n",
    "    num_x = 10\n",
    "    print(\" num_x inside function\" ,num_x)\n",
    "    print(\"Hello How Are You\")\n",
    "\n",
    "def hello():\n",
    "    global num_x\n",
    "    global result\n",
    "    num_x = 10\n",
    "    result = 10+10\n",
    "    print(\"num_x inside function\" ,num_x)\n",
    "    print(\"hello how are you\")\n",
    "\n",
    "hello()\n",
    "print(\"num_x outside function two\",num_x)\n",
    "print(\"result\",result)\n"
   ]
  },
  {
   "cell_type": "markdown",
   "metadata": {},
   "source": [
    "DocString\n",
    "docstring hameshafunction ky ander first line main hona chahiye. is main single or double quote istimal kr sakty hain."
   ]
  },
  {
   "cell_type": "markdown",
   "metadata": {},
   "source": [
    "SET  ( set ky ander hamesha uniqe values aati hain)"
   ]
  },
  {
   "cell_type": "code",
   "execution_count": null,
   "metadata": {},
   "outputs": [],
   "source": [
    "# STRING\n",
    "# INTEGER\n",
    "# BOOLEAN\n",
    "#LIST\n",
    "#TUPLE\n",
    "#DICTIONARY\n",
    "#SET    ( MUTABLE HY YA IMMUTABLE) IMMUTABLE HY CHANGE KRNY KY METHODS HAIN\n",
    "# 1.ADD , 2.REMOVE , 3.DISCARD , 4.POP , 5.UNION , 6.INTERSECTION\n",
    "\n",
    "NAMES_LIST = [\"ALI\",\"ABDULLAH\",\"AMIR\",\"ANEEQ\",\"ABDULLAH\"]\n",
    "NAMES_SET = {\"ALI\",\"ABDULLAH\",\"AMIR\",\"ANEEQ\",\"ABDULLAH\"}\n",
    "print(\"NAMES_LIST\",NAMES_LIST)\n",
    "print(\"NAMES_SET\",NAMES_SET)\n",
    "\n",
    "# ADD\n",
    "NAMES_SET.add(\"AFNAN\")\n",
    "print(\"UPDATED NAMES\", NAMES_SET)\n",
    "# DISCARD BHI KOI VALUE KO REMOVE KRTA HY JAISY REMOVE KRTA HY.\n",
    "\n",
    "NAMES_LIST = [\"ALI\",\"ABDULLAH\",\"AMIR\",\"ANEEQ\",\"ABDULLAH\"]\n",
    "NAMES_SET = {\"ALI\",\"ABDULLAH\",\"AMIR\",\"ANEEQ\",\"ABDULLAH\"}\n",
    "NAMES_SET.discard(\"ALI\")\n",
    "print(\"NAMES_SET\",NAMES_SET)\n"
   ]
  },
  {
   "cell_type": "code",
   "execution_count": null,
   "metadata": {},
   "outputs": [
    {
     "name": "stdout",
     "output_type": "stream",
     "text": [
      "result>>> {1, 2, 3, 4, 5}\n",
      "result>>> {3}\n",
      "<class 'set'>\n"
     ]
    }
   ],
   "source": [
    "# Union\n",
    "num_set_1 = {1,2,3}\n",
    "num_set_2 = {3,4,5}\n",
    "\n",
    "result = num_set_1.union(num_set_2)\n",
    "print(\"result>>>\",result)\n",
    "\n",
    "# Intersection\n",
    "num_set_1 = {1,2,3}\n",
    "num_set_2 = {3,4,5}\n",
    "\n",
    "result = num_set_1.intersection(num_set_2)\n",
    "print(\"result>>>\",result)\n",
    "print(type(num_set_1))"
   ]
  },
  {
   "cell_type": "code",
   "execution_count": null,
   "metadata": {},
   "outputs": [
    {
     "name": "stdout",
     "output_type": "stream",
     "text": [
      "take two parameter and return their sum\n",
      "4\n"
     ]
    }
   ],
   "source": [
    "def addition(num1: int, num2:int) ->int:\n",
    "    \"\"\"take two parameter and return their sum\"\"\"\n",
    "    return num1+num2\n",
    "\n",
    "result = addition(2,2)\n",
    "print(addition.__doc__)\n",
    "print(result)\n"
   ]
  }
 ],
 "metadata": {
  "kernelspec": {
   "display_name": "Python 3",
   "language": "python",
   "name": "python3"
  },
  "language_info": {
   "codemirror_mode": {
    "name": "ipython",
    "version": 3
   },
   "file_extension": ".py",
   "mimetype": "text/x-python",
   "name": "python",
   "nbconvert_exporter": "python",
   "pygments_lexer": "ipython3",
   "version": "3.13.0"
  }
 },
 "nbformat": 4,
 "nbformat_minor": 2
}
