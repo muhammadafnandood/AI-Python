{
  "nbformat": 4,
  "nbformat_minor": 0,
  "metadata": {
    "colab": {
      "provenance": [],
      "authorship_tag": "ABX9TyOs0l1Nui1zHcfsvy8d4tqK",
      "include_colab_link": true
    },
    "kernelspec": {
      "name": "python3",
      "display_name": "Python 3"
    },
    "language_info": {
      "name": "python"
    }
  },
  "cells": [
    {
      "cell_type": "markdown",
      "metadata": {
        "id": "view-in-github",
        "colab_type": "text"
      },
      "source": [
        "<a href=\"https://colab.research.google.com/github/muhammadafnandood/AI-Python/blob/main/Copy_of_Untitled1.ipynb\" target=\"_parent\"><img src=\"https://colab.research.google.com/assets/colab-badge.svg\" alt=\"Open In Colab\"/></a>"
      ]
    },
    {
      "cell_type": "code",
      "execution_count": null,
      "metadata": {
        "colab": {
          "base_uri": "https://localhost:8080/"
        },
        "id": "0hplAdvuWkcG",
        "outputId": "b379bf1c-6bbf-49b3-f965-47161359c681"
      },
      "outputs": [
        {
          "output_type": "stream",
          "name": "stdout",
          "text": [
            "True\n",
            "True\n",
            "1\n",
            "Sir Aneeq\n",
            "Abdullah\n",
            "False\n",
            "True\n"
          ]
        }
      ],
      "source": [
        "print(True == 1)\n",
        "print(False == 0)\n",
        "print(True + False)\n",
        "teachername :str=\"Sir Aneeq\"\n",
        "print(teachername)\n",
        "allowed:bool=False\n",
        "uname : str=\"Sir Sohaib\"\n",
        "uname=\"Abdullah\"\n",
        "print(uname)\n",
        "allowed:bool=False\n",
        "print(allowed)\n",
        "allowed:bool=True\n",
        "print(allowed)\n"
      ]
    },
    {
      "cell_type": "code",
      "source": [
        "import os\n",
        "print(\"cwd\",os.getcwd())  #cwd  current working directory\n",
        "print(\"list dir \",os.listdir())\n",
        "# print(\"newfolder\",os.mkdir(\"text\"))\n",
        "print(\"rename\",os.rename(\"text new\", \"text latest\"))"
      ],
      "metadata": {
        "colab": {
          "base_uri": "https://localhost:8080/",
          "height": 211
        },
        "id": "S6AjpMmfdXsE",
        "outputId": "90aca819-d766-4395-faeb-8821bd13b2ba"
      },
      "execution_count": null,
      "outputs": [
        {
          "output_type": "stream",
          "name": "stdout",
          "text": [
            "cwd /content\n",
            "list dir  ['.config', 'sample_data']\n"
          ]
        },
        {
          "output_type": "error",
          "ename": "FileNotFoundError",
          "evalue": "[Errno 2] No such file or directory: 'text new' -> 'text latest'",
          "traceback": [
            "\u001b[0;31m---------------------------------------------------------------------------\u001b[0m",
            "\u001b[0;31mFileNotFoundError\u001b[0m                         Traceback (most recent call last)",
            "\u001b[0;32m<ipython-input-2-a43a962d5aa8>\u001b[0m in \u001b[0;36m<cell line: 0>\u001b[0;34m()\u001b[0m\n\u001b[1;32m      3\u001b[0m \u001b[0mprint\u001b[0m\u001b[0;34m(\u001b[0m\u001b[0;34m\"list dir \"\u001b[0m\u001b[0;34m,\u001b[0m\u001b[0mos\u001b[0m\u001b[0;34m.\u001b[0m\u001b[0mlistdir\u001b[0m\u001b[0;34m(\u001b[0m\u001b[0;34m)\u001b[0m\u001b[0;34m)\u001b[0m\u001b[0;34m\u001b[0m\u001b[0;34m\u001b[0m\u001b[0m\n\u001b[1;32m      4\u001b[0m \u001b[0;31m# print(\"newfolder\",os.mkdir(\"text\"))\u001b[0m\u001b[0;34m\u001b[0m\u001b[0;34m\u001b[0m\u001b[0m\n\u001b[0;32m----> 5\u001b[0;31m \u001b[0mprint\u001b[0m\u001b[0;34m(\u001b[0m\u001b[0;34m\"rename\"\u001b[0m\u001b[0;34m,\u001b[0m\u001b[0mos\u001b[0m\u001b[0;34m.\u001b[0m\u001b[0mrename\u001b[0m\u001b[0;34m(\u001b[0m\u001b[0;34m\"text new\"\u001b[0m\u001b[0;34m,\u001b[0m \u001b[0;34m\"text latest\"\u001b[0m\u001b[0;34m)\u001b[0m\u001b[0;34m)\u001b[0m\u001b[0;34m\u001b[0m\u001b[0;34m\u001b[0m\u001b[0m\n\u001b[0m",
            "\u001b[0;31mFileNotFoundError\u001b[0m: [Errno 2] No such file or directory: 'text new' -> 'text latest'"
          ]
        }
      ]
    },
    {
      "cell_type": "code",
      "source": [],
      "metadata": {
        "colab": {
          "base_uri": "https://localhost:8080/"
        },
        "id": "ZQdpqcCNeyQ5",
        "outputId": "b217b108-2fd5-46e9-9911-65985d1c48d2"
      },
      "execution_count": null,
      "outputs": [
        {
          "output_type": "stream",
          "name": "stdout",
          "text": [
            "Current Working Directory: /content\n",
            "List of files and folders: ['.config', 'sample_data']\n",
            "Folder 'text new' does not exist. Cannot rename.\n"
          ]
        }
      ]
    }
  ]
}